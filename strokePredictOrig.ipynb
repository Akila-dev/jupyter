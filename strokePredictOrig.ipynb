{
 "cells": [
  {
   "cell_type": "code",
   "execution_count": 1,
   "id": "ca54947c",
   "metadata": {},
   "outputs": [
    {
     "ename": "ModuleNotFoundError",
     "evalue": "No module named 'imblearn'",
     "output_type": "error",
     "traceback": [
      "\u001b[0;31m---------------------------------------------------------------------------\u001b[0m",
      "\u001b[0;31mModuleNotFoundError\u001b[0m                       Traceback (most recent call last)",
      "\u001b[0;32m/tmp/ipykernel_4115/1383874780.py\u001b[0m in \u001b[0;36m<module>\u001b[0;34m\u001b[0m\n\u001b[1;32m      6\u001b[0m \u001b[0;32mimport\u001b[0m \u001b[0mmatplotlib\u001b[0m\u001b[0;34m.\u001b[0m\u001b[0mgridspec\u001b[0m \u001b[0;32mas\u001b[0m \u001b[0mgrid_spec\u001b[0m\u001b[0;34m\u001b[0m\u001b[0;34m\u001b[0m\u001b[0m\n\u001b[1;32m      7\u001b[0m \u001b[0;32mimport\u001b[0m \u001b[0mseaborn\u001b[0m \u001b[0;32mas\u001b[0m \u001b[0msns\u001b[0m\u001b[0;34m\u001b[0m\u001b[0;34m\u001b[0m\u001b[0m\n\u001b[0;32m----> 8\u001b[0;31m \u001b[0;32mfrom\u001b[0m \u001b[0mimblearn\u001b[0m\u001b[0;34m.\u001b[0m\u001b[0mover_sampling\u001b[0m \u001b[0;32mimport\u001b[0m \u001b[0mSMOTE\u001b[0m\u001b[0;34m\u001b[0m\u001b[0;34m\u001b[0m\u001b[0m\n\u001b[0m\u001b[1;32m      9\u001b[0m \u001b[0;32mimport\u001b[0m \u001b[0mscikitplot\u001b[0m \u001b[0;32mas\u001b[0m \u001b[0mskplt\u001b[0m\u001b[0;34m\u001b[0m\u001b[0;34m\u001b[0m\u001b[0m\n\u001b[1;32m     10\u001b[0m \u001b[0;34m\u001b[0m\u001b[0m\n",
      "\u001b[0;31mModuleNotFoundError\u001b[0m: No module named 'imblearn'"
     ]
    }
   ],
   "source": [
    "import numpy as np \n",
    "import pandas as pd \n",
    "\n",
    "import matplotlib.pyplot as plt\n",
    "import matplotlib.ticker as mtick\n",
    "import matplotlib.gridspec as grid_spec\n",
    "import seaborn as sns\n",
    "from imblearn.over_sampling import SMOTE\n",
    "import scikitplot as skplt\n",
    "\n",
    "from sklearn.pipeline import Pipeline\n",
    "from sklearn.preprocessing import StandardScaler,LabelEncoder\n",
    "from sklearn.model_selection import train_test_split,cross_val_score\n",
    "\n",
    "from sklearn.metrics import classification_report, confusion_matrix\n",
    "from sklearn.metrics import accuracy_score, recall_score, roc_auc_score, precision_score, f1_score\n",
    "\n",
    "from sklearn.linear_model import LinearRegression,LogisticRegression\n",
    "from sklearn.tree import DecisionTreeRegressor,DecisionTreeClassifier\n",
    "from sklearn.ensemble import RandomForestClassifier\n",
    "from sklearn.svm import SVC"
   ]
  },
  {
   "cell_type": "code",
   "execution_count": 7,
   "id": "0a325e3b",
   "metadata": {},
   "outputs": [
    {
     "data": {
      "text/html": [
       "<div>\n",
       "<style scoped>\n",
       "    .dataframe tbody tr th:only-of-type {\n",
       "        vertical-align: middle;\n",
       "    }\n",
       "\n",
       "    .dataframe tbody tr th {\n",
       "        vertical-align: top;\n",
       "    }\n",
       "\n",
       "    .dataframe thead th {\n",
       "        text-align: right;\n",
       "    }\n",
       "</style>\n",
       "<table border=\"1\" class=\"dataframe\">\n",
       "  <thead>\n",
       "    <tr style=\"text-align: right;\">\n",
       "      <th></th>\n",
       "      <th>id</th>\n",
       "      <th>gender</th>\n",
       "      <th>age</th>\n",
       "      <th>hypertension</th>\n",
       "      <th>heart_disease</th>\n",
       "      <th>ever_married</th>\n",
       "      <th>work_type</th>\n",
       "      <th>Residence_type</th>\n",
       "      <th>avg_glucose_level</th>\n",
       "      <th>bmi</th>\n",
       "      <th>smoking_status</th>\n",
       "      <th>stroke</th>\n",
       "    </tr>\n",
       "  </thead>\n",
       "  <tbody>\n",
       "    <tr>\n",
       "      <th>0</th>\n",
       "      <td>9046</td>\n",
       "      <td>Male</td>\n",
       "      <td>67.0</td>\n",
       "      <td>0</td>\n",
       "      <td>1</td>\n",
       "      <td>Yes</td>\n",
       "      <td>Private</td>\n",
       "      <td>Urban</td>\n",
       "      <td>228.69</td>\n",
       "      <td>36.6</td>\n",
       "      <td>formerly smoked</td>\n",
       "      <td>1</td>\n",
       "    </tr>\n",
       "    <tr>\n",
       "      <th>1</th>\n",
       "      <td>51676</td>\n",
       "      <td>Female</td>\n",
       "      <td>61.0</td>\n",
       "      <td>0</td>\n",
       "      <td>0</td>\n",
       "      <td>Yes</td>\n",
       "      <td>Self-employed</td>\n",
       "      <td>Rural</td>\n",
       "      <td>202.21</td>\n",
       "      <td>NaN</td>\n",
       "      <td>never smoked</td>\n",
       "      <td>1</td>\n",
       "    </tr>\n",
       "    <tr>\n",
       "      <th>2</th>\n",
       "      <td>31112</td>\n",
       "      <td>Male</td>\n",
       "      <td>80.0</td>\n",
       "      <td>0</td>\n",
       "      <td>1</td>\n",
       "      <td>Yes</td>\n",
       "      <td>Private</td>\n",
       "      <td>Rural</td>\n",
       "      <td>105.92</td>\n",
       "      <td>32.5</td>\n",
       "      <td>never smoked</td>\n",
       "      <td>1</td>\n",
       "    </tr>\n",
       "  </tbody>\n",
       "</table>\n",
       "</div>"
      ],
      "text/plain": [
       "      id  gender   age  hypertension  heart_disease ever_married  \\\n",
       "0   9046    Male  67.0             0              1          Yes   \n",
       "1  51676  Female  61.0             0              0          Yes   \n",
       "2  31112    Male  80.0             0              1          Yes   \n",
       "\n",
       "       work_type Residence_type  avg_glucose_level   bmi   smoking_status  \\\n",
       "0        Private          Urban             228.69  36.6  formerly smoked   \n",
       "1  Self-employed          Rural             202.21   NaN     never smoked   \n",
       "2        Private          Rural             105.92  32.5     never smoked   \n",
       "\n",
       "   stroke  \n",
       "0       1  \n",
       "1       1  \n",
       "2       1  "
      ]
     },
     "execution_count": 7,
     "metadata": {},
     "output_type": "execute_result"
    }
   ],
   "source": [
    "df = pd.read_csv('./stroke_data.csv')\n",
    "df.head(3)"
   ]
  },
  {
   "cell_type": "code",
   "execution_count": 9,
   "id": "5418de60",
   "metadata": {},
   "outputs": [
    {
     "name": "stdout",
     "output_type": "stream",
     "text": [
      "<class 'pandas.core.frame.DataFrame'>\n",
      "RangeIndex: 5110 entries, 0 to 5109\n",
      "Data columns (total 12 columns):\n",
      " #   Column             Non-Null Count  Dtype  \n",
      "---  ------             --------------  -----  \n",
      " 0   id                 5110 non-null   int64  \n",
      " 1   gender             5110 non-null   object \n",
      " 2   age                5110 non-null   float64\n",
      " 3   hypertension       5110 non-null   int64  \n",
      " 4   heart_disease      5110 non-null   int64  \n",
      " 5   ever_married       5110 non-null   object \n",
      " 6   work_type          5110 non-null   object \n",
      " 7   Residence_type     5110 non-null   object \n",
      " 8   avg_glucose_level  5110 non-null   float64\n",
      " 9   bmi                4909 non-null   float64\n",
      " 10  smoking_status     5110 non-null   object \n",
      " 11  stroke             5110 non-null   int64  \n",
      "dtypes: float64(3), int64(4), object(5)\n",
      "memory usage: 479.2+ KB\n"
     ]
    }
   ],
   "source": [
    "df.info()"
   ]
  },
  {
   "cell_type": "code",
   "execution_count": 10,
   "id": "45f88551",
   "metadata": {},
   "outputs": [
    {
     "data": {
      "text/plain": [
       "id                     0\n",
       "gender                 0\n",
       "age                    0\n",
       "hypertension           0\n",
       "heart_disease          0\n",
       "ever_married           0\n",
       "work_type              0\n",
       "Residence_type         0\n",
       "avg_glucose_level      0\n",
       "bmi                  201\n",
       "smoking_status         0\n",
       "stroke                 0\n",
       "dtype: int64"
      ]
     },
     "execution_count": 10,
     "metadata": {},
     "output_type": "execute_result"
    }
   ],
   "source": [
    "# EXPLORATORY DATA ANALYSIS\n",
    "# Firt. we check for null values in the dataset\n",
    "df.isnull().sum()"
   ]
  },
  {
   "cell_type": "code",
   "execution_count": null,
   "id": "a7835c6b",
   "metadata": {},
   "outputs": [],
   "source": [
    "# From the result above, e can see that we have some null data\n",
    "# We \n",
    "DT_bmi_pipe = Pipeline( steps=[ \n",
    "                               ('scale',StandardScaler()),\n",
    "                               ('lr',DecisionTreeRegressor(random_state=42))\n",
    "                              ])\n",
    "X = df[['age','gender','bmi']].copy()\n",
    "X.gender = X.gender.replace({'Male':0,'Female':1,'Other':-1}).astype(np.uint8)\n",
    "\n",
    "Missing = X[X.bmi.isna()]\n",
    "X = X[~X.bmi.isna()]\n",
    "Y = X.pop('bmi')\n",
    "DT_bmi_pipe.fit(X,Y)\n",
    "predicted_bmi = pd.Series(DT_bmi_pipe.predict(Missing[['age','gender']]),index=Missing.index)\n",
    "df.loc[Missing.index,'bmi'] = predicted_bmi"
   ]
  },
  {
   "cell_type": "code",
   "execution_count": null,
   "id": "81774d5c",
   "metadata": {},
   "outputs": [],
   "source": [
    "print('Missing values: ',sum(df.isnull().sum()))"
   ]
  },
  {
   "cell_type": "code",
   "execution_count": null,
   "id": "0cc21ec2",
   "metadata": {},
   "outputs": [],
   "source": [
    "variables = [variable for variable in df.columns if variable not in ['id','stroke']]\n",
    "\n",
    "conts = ['age','avg_glucose_level','bmi']"
   ]
  },
  {
   "cell_type": "code",
   "execution_count": null,
   "id": "5fe71cb8",
   "metadata": {},
   "outputs": [],
   "source": [
    "fig = plt.figure(figsize=(12, 12), dpi=150, facecolor='#fafafa')\n",
    "gs = fig.add_gridspec(4, 3)\n",
    "gs.update(wspace=0.1, hspace=0.4)\n",
    "\n",
    "background_color = \"#fafafa\"\n",
    "\n",
    "plot = 0\n",
    "for row in range(0, 1):\n",
    "    for col in range(0, 3):\n",
    "        locals()[\"ax\"+str(plot)] = fig.add_subplot(gs[row, col])\n",
    "        locals()[\"ax\"+str(plot)].set_facecolor(background_color)\n",
    "        locals()[\"ax\"+str(plot)].tick_params(axis='y', left=False)\n",
    "        locals()[\"ax\"+str(plot)].get_yaxis().set_visible(False)\n",
    "        for s in [\"top\",\"right\",\"left\"]:\n",
    "            locals()[\"ax\"+str(plot)].spines[s].set_visible(False)\n",
    "        plot += 1\n",
    "\n",
    "plot = 0\n",
    "for variable in conts:\n",
    "        sns.kdeplot(df[variable] ,ax=locals()[\"ax\"+str(plot)], color='#0f4c81', shade=True, linewidth=1.5, ec='black',alpha=0.9, zorder=3, legend=False)\n",
    "        locals()[\"ax\"+str(plot)].grid(which='major', axis='x', zorder=0, color='gray', linestyle=':', dashes=(1,5))\n",
    "        #locals()[\"ax\"+str(plot)].set_xlabel(variable) removed this for aesthetics\n",
    "        plot += 1\n",
    "        \n",
    "ax0.set_xlabel('Age')\n",
    "ax1.set_xlabel('Avg. Glucose Levels')\n",
    "ax2.set_xlabel('BMI')\n",
    "\n",
    "\n",
    "ax0.text(-20, 0.022, 'Numeric Variable Distribution', fontsize=20, fontweight='bold', fontfamily='serif')\n",
    "ax0.text(-20, 0.02, 'Age, Av. Glucose Level, and  BMI', fontsize=13, fontweight='light', fontfamily='serif')\n",
    "\n",
    "plt.show()"
   ]
  },
  {
   "cell_type": "code",
   "execution_count": null,
   "id": "61f44cda",
   "metadata": {},
   "outputs": [],
   "source": [
    "fig = plt.figure(figsize=(12, 12), dpi=150,facecolor=background_color)\n",
    "gs = fig.add_gridspec(4, 3)\n",
    "gs.update(wspace=0.1, hspace=0.4)\n",
    "\n",
    "\n",
    "plot = 0\n",
    "for row in range(0, 1):\n",
    "    for col in range(0, 3):\n",
    "        locals()[\"ax\"+str(plot)] = fig.add_subplot(gs[row, col])\n",
    "        locals()[\"ax\"+str(plot)].set_facecolor(background_color)\n",
    "        locals()[\"ax\"+str(plot)].tick_params(axis='y', left=False)\n",
    "        locals()[\"ax\"+str(plot)].get_yaxis().set_visible(False)\n",
    "        for s in [\"top\",\"right\",\"left\"]:\n",
    "            locals()[\"ax\"+str(plot)].spines[s].set_visible(False)\n",
    "        plot += 1\n",
    "\n",
    "plot = 0\n",
    "\n",
    "s = df[df['stroke'] == 1]\n",
    "ns = df[df['stroke'] == 0]\n",
    "\n",
    "for feature in conts:\n",
    "        sns.kdeplot(s[feature], ax=locals()[\"ax\"+str(plot)], color='#0f4c81', shade=True, linewidth=1.5, ec='black',alpha=0.9, zorder=3, legend=False)\n",
    "        sns.kdeplot(ns[feature],ax=locals()[\"ax\"+str(plot)], color='#9bb7d4', shade=True, linewidth=1.5, ec='black',alpha=0.9, zorder=3, legend=False)\n",
    "        locals()[\"ax\"+str(plot)].grid(which='major', axis='x', zorder=0, color='gray', linestyle=':', dashes=(1,5))\n",
    "        #locals()[\"ax\"+str(plot)].set_xlabel(feature)\n",
    "        plot += 1\n",
    "\n",
    "ax0.set_xlabel('Age')\n",
    "ax1.set_xlabel('Avg. Glucose Levels')\n",
    "ax2.set_xlabel('BMI')\n",
    "        \n",
    "ax0.text(-20, 0.056, 'Numeric Variables by Stroke & No Stroke', fontsize=20, fontweight='bold', fontfamily='serif')\n",
    "\n",
    "\n",
    "plt.show()"
   ]
  },
  {
   "cell_type": "code",
   "execution_count": null,
   "id": "4d211787",
   "metadata": {},
   "outputs": [],
   "source": [
    "str_only = df[df['stroke'] == 1]\n",
    "no_str_only = df[df['stroke'] == 0]"
   ]
  },
  {
   "cell_type": "code",
   "execution_count": null,
   "id": "49b9d616",
   "metadata": {},
   "outputs": [],
   "source": [
    "import warnings\n",
    "warnings.filterwarnings('ignore')"
   ]
  },
  {
   "cell_type": "code",
   "execution_count": null,
   "id": "e0628b6d",
   "metadata": {},
   "outputs": [],
   "source": [
    "# Setting up figure and axes\n",
    "\n",
    "fig = plt.figure(figsize=(10,16),dpi=150,facecolor=background_color) \n",
    "gs = fig.add_gridspec(4, 2)\n",
    "gs.update(wspace=0.5, hspace=0.2)\n",
    "ax0 = fig.add_subplot(gs[0, 0:2])\n",
    "ax1 = fig.add_subplot(gs[1, 0:2]) \n",
    "\n",
    "ax0.set_facecolor(background_color)\n",
    "ax1.set_facecolor(background_color)\n",
    "\n",
    "# glucose\n",
    "\n",
    "sns.regplot(no_str_only['age'],y=no_str_only['avg_glucose_level'],  \n",
    "            color='lightgray',\n",
    "            logx=True,\n",
    "            ax=ax0)\n",
    "\n",
    "sns.regplot(str_only['age'],y=str_only['avg_glucose_level'],  \n",
    "            color='#0f4c81',\n",
    "            logx=True,scatter_kws={'edgecolors':['black'], \n",
    "                                              'linewidth': 1},\n",
    "            ax=ax0)\n",
    "\n",
    "ax0.set(ylim=(0, None))\n",
    "ax0.set_xlabel(\" \",fontsize=12,fontfamily='serif')\n",
    "ax0.set_ylabel(\"Avg. Glucose Level\",fontsize=10,fontfamily='serif',loc='bottom')\n",
    "\n",
    "ax0.tick_params(axis='x', bottom=False)\n",
    "ax0.get_xaxis().set_visible(False)\n",
    "\n",
    "for s in ['top','left','bottom']:\n",
    "    ax0.spines[s].set_visible(False)\n",
    "\n",
    "\n",
    "# bmi\n",
    "sns.regplot(no_str_only['age'],y=no_str_only['bmi'],  \n",
    "            color='lightgray',\n",
    "            logx=True,\n",
    "            ax=ax1)\n",
    "\n",
    "sns.regplot(str_only['age'],y=str_only['bmi'],  \n",
    "            color='#0f4c81', scatter_kws={'edgecolors':['black'], \n",
    "                                              'linewidth': 1},\n",
    "            logx=True,\n",
    "            ax=ax1)\n",
    "\n",
    "ax1.set_xlabel(\"Age\",fontsize=10,fontfamily='serif',loc='left')\n",
    "ax1.set_ylabel(\"BMI\",fontsize=10,fontfamily='serif',loc='bottom')\n",
    "\n",
    "\n",
    "for s in ['top','left','right']:\n",
    "    ax0.spines[s].set_visible(False)\n",
    "    ax1.spines[s].set_visible(False)\n",
    "\n",
    "    \n",
    "ax0.text(-5,350,'Strokes by Age, Glucose Level, and BMI',fontsize=18,fontfamily='serif',fontweight='bold')\n",
    "ax0.text(-5,320,'Age appears to be a very important factor',fontsize=14,fontfamily='serif')\n",
    "\n",
    "\n",
    "ax0.tick_params(axis=u'both', which=u'both',length=0)\n",
    "ax1.tick_params(axis=u'both', which=u'both',length=0)\n",
    "\n",
    "\n",
    "\n",
    "plt.show()"
   ]
  },
  {
   "cell_type": "code",
   "execution_count": null,
   "id": "fd12004a",
   "metadata": {},
   "outputs": [],
   "source": [
    "fig = plt.figure(figsize=(10, 5), dpi=150,facecolor=background_color)\n",
    "gs = fig.add_gridspec(2, 1)\n",
    "gs.update(wspace=0.11, hspace=0.5)\n",
    "ax0 = fig.add_subplot(gs[0, 0])\n",
    "ax0.set_facecolor(background_color)\n",
    "\n",
    "\n",
    "df['age'] = df['age'].astype(int)\n",
    "\n",
    "rate = []\n",
    "for i in range(df['age'].min(), df['age'].max()):\n",
    "    rate.append(df[df['age'] < i]['stroke'].sum() / len(df[df['age'] < i]['stroke']))\n",
    "\n",
    "sns.lineplot(data=rate,color='#0f4c81',ax=ax0)\n",
    "\n",
    "for s in [\"top\",\"right\",\"left\"]:\n",
    "    ax0.spines[s].set_visible(False)\n",
    "\n",
    "ax0.tick_params(axis='both', which='major', labelsize=8)\n",
    "ax0.tick_params(axis=u'both', which=u'both',length=0)\n",
    "\n",
    "ax0.text(-3,0.055,'Risk Increase by Age',fontsize=18,fontfamily='serif',fontweight='bold')\n",
    "ax0.text(-3,0.047,'As age increase, so too does risk of having a stroke',fontsize=14,fontfamily='serif')\n",
    "\n",
    "\n",
    "plt.show()"
   ]
  },
  {
   "cell_type": "code",
   "execution_count": null,
   "id": "1cd418dc",
   "metadata": {},
   "outputs": [],
   "source": [
    "df['gender'] = df['gender'].replace({'Male':0,'Female':1,'Other':-1}).astype(np.uint8)\n",
    "df['Residence_type'] = df['Residence_type'].replace({'Rural':0,'Urban':1}).astype(np.uint8)\n",
    "df['work_type'] = df['work_type'].replace({'Private':0,'Self-employed':1,'Govt_job':2,'children':-1,'Never_worked':-2}).astype(np.uint8)"
   ]
  },
  {
   "cell_type": "code",
   "execution_count": null,
   "id": "ecef4f68",
   "metadata": {},
   "outputs": [],
   "source": [
    "# Inverse of Null Accuracy\n",
    "print('Inverse of Null Accuracy: ',249/(249+4861))\n",
    "print('Null Accuracy: ',4861/(4861+249))"
   ]
  },
  {
   "cell_type": "code",
   "execution_count": null,
   "id": "37c940d7",
   "metadata": {},
   "outputs": [],
   "source": [
    "X  = df[['gender','age','hypertension','heart_disease','work_type','avg_glucose_level','bmi']]\n",
    "y = df['stroke']\n",
    "\n",
    "from sklearn.model_selection import train_test_split\n",
    "\n",
    "X_train, X_test, y_train, y_test = train_test_split(X, y, train_size=0.3, random_state=42)"
   ]
  },
  {
   "cell_type": "code",
   "execution_count": null,
   "id": "424b7be0",
   "metadata": {},
   "outputs": [],
   "source": [
    "X_test.head(2)"
   ]
  },
  {
   "cell_type": "code",
   "execution_count": null,
   "id": "0d4d6dfc",
   "metadata": {},
   "outputs": [],
   "source": [
    "# Our data is biased, we can fix this with SMOTE\n",
    "\n",
    "oversample = SMOTE()\n",
    "X_train_resh, y_train_resh = oversample.fit_resample(X_train, y_train.ravel())"
   ]
  },
  {
   "cell_type": "code",
   "execution_count": null,
   "id": "66553d38",
   "metadata": {},
   "outputs": [],
   "source": [
    "# Models\n",
    "\n",
    "# Scale our data in pipeline, then split\n",
    "\n",
    "rf_pipeline = Pipeline(steps = [('scale',StandardScaler()),('RF',RandomForestClassifier(random_state=42))])\n",
    "svm_pipeline = Pipeline(steps = [('scale',StandardScaler()),('SVM',SVC(random_state=42))])\n",
    "logreg_pipeline = Pipeline(steps = [('scale',StandardScaler()),('LR',LogisticRegression(random_state=42))])\n",
    "\n",
    "\n",
    "\n",
    "#X = upsampled_df.iloc[:,:-1] # X_train_resh\n",
    "#Y = upsampled_df.iloc[:,-1]# y_train_resh\n",
    "\n",
    "#retain_x = X.sample(100)\n",
    "#retain_y = Y.loc[X.index]\n",
    "\n",
    "#X = X.drop(index=retain_x.index)\n",
    "#Y = Y.drop(index=retain_x.index)"
   ]
  },
  {
   "cell_type": "code",
   "execution_count": null,
   "id": "b0dc1385",
   "metadata": {},
   "outputs": [],
   "source": [
    "rf_cv = cross_val_score(rf_pipeline,X_train_resh,y_train_resh,cv=10,scoring='f1')\n",
    "svm_cv = cross_val_score(svm_pipeline,X_train_resh,y_train_resh,cv=10,scoring='f1')\n",
    "logreg_cv = cross_val_score(logreg_pipeline,X_train_resh,y_train_resh,cv=10,scoring='f1')"
   ]
  },
  {
   "cell_type": "code",
   "execution_count": null,
   "id": "d5901a9f",
   "metadata": {},
   "outputs": [],
   "source": [
    "print('Mean f1 scores:')\n",
    "print('Random Forest mean :',cross_val_score(rf_pipeline,X_train_resh,y_train_resh,cv=10,scoring='f1').mean())\n",
    "print('SVM mean :',cross_val_score(svm_pipeline,X_train_resh,y_train_resh,cv=10,scoring='f1').mean())\n",
    "print('Logistic Regression mean :',cross_val_score(logreg_pipeline,X_train_resh,y_train_resh,cv=10,scoring='f1').mean("
   ]
  }
 ],
 "metadata": {
  "kernelspec": {
   "display_name": "Python 3 (ipykernel)",
   "language": "python",
   "name": "python3"
  },
  "language_info": {
   "codemirror_mode": {
    "name": "ipython",
    "version": 3
   },
   "file_extension": ".py",
   "mimetype": "text/x-python",
   "name": "python",
   "nbconvert_exporter": "python",
   "pygments_lexer": "ipython3",
   "version": "3.9.13"
  }
 },
 "nbformat": 4,
 "nbformat_minor": 5
}
